{
 "cells": [
  {
   "cell_type": "code",
   "execution_count": 3,
   "metadata": {},
   "outputs": [
    {
     "name": "stdout",
     "output_type": "stream",
     "text": [
      "Muhammad\n",
      "Salman\n",
      "25\n",
      "Karachi\n",
      "{'first_name': 'Muhammad', 'last_name': 'Salman', 'age': 25, 'city': 'Karachi'}\n",
      "Intermediate\n",
      "{'first_name': 'Muhammad', 'last_name': 'Salman', 'age': 25, 'city': 'Karachi', 'qualification': 'Intermediate'}\n",
      "{'first_name': 'Muhammad', 'last_name': 'Salman', 'age': 25, 'city': 'Karachi', 'qualification': 'Bachelors'}\n",
      "{'first_name': 'Muhammad', 'last_name': 'Salman', 'age': 25, 'city': 'Karachi'}\n"
     ]
    }
   ],
   "source": [
    "person = {\n",
    "    'first_name': 'Muhammad',\n",
    "    'last_name': 'Salman',\n",
    "    'age':    25,\n",
    "    'city': 'Karachi',\n",
    "    }\n",
    "\n",
    "print(person['first_name'])\n",
    "print(person['last_name'])\n",
    "print(person['age'])\n",
    "print(person['city'])\n",
    "print(person)\n",
    "#person.update({'qualification':'Intermediate'})\n",
    "person['qualification'] = 'Intermediate'\n",
    "print(person['qualification'])\n",
    "print(person)\n",
    "person.update({'qualification':'Bachelors'})\n",
    "print(person)\n",
    "del person['qualification']\n",
    "print(person)"
   ]
  },
  {
   "cell_type": "code",
   "execution_count": 2,
   "metadata": {},
   "outputs": [
    {
     "name": "stdout",
     "output_type": "stream",
     "text": [
      "\n",
      "Karachi is in Pakistan.\n",
      "  It has a population of about 14916456.\n",
      "  The famous fact : Karachi is know as the \"City of Lights\" in the 1960s and 1970s for its vibrant nightlife.\n",
      "\n",
      "London is in England.\n",
      "  It has a population of about 8908081.\n",
      "  The famous fact : London contains four World Heritage Sites.\n",
      "\n",
      "Berlin is in Germany.\n",
      "  It has a population of about 3748148.\n",
      "  The famous fact : Berlin is a world city of culture, politics, media and science.\n"
     ]
    }
   ],
   "source": [
    "cities = {\n",
    "    'karachi': {\n",
    "        'country': 'Pakistan',\n",
    "        'population': 14916456,\n",
    "        'fact': 'Karachi is know as the \"City of Lights\" in the 1960s and 1970s for its vibrant nightlife',\n",
    "        },\n",
    "    'london': {\n",
    "        'country': 'England',\n",
    "        'population': 8908081,\n",
    "        'fact': 'London contains four World Heritage Sites',\n",
    "        },\n",
    "    'berlin': {\n",
    "        'country': 'Germany',\n",
    "        'population': 3748148,\n",
    "        'fact': 'Berlin is a world city of culture, politics, media and science',\n",
    "        }\n",
    "    }\n",
    "\n",
    "for city, city_info in cities.items():\n",
    "    country = city_info['country']\n",
    "    population = city_info['population']\n",
    "    fact = city_info['fact']\n",
    "\n",
    "    print(\"\\n\" + city.title() + \" is in \" + country.title() + \".\")\n",
    "    print(\"  It has a population of about \" + str(population) + \".\")\n",
    "    print(\"  The famous fact : \" + fact + \".\")"
   ]
  },
  {
   "cell_type": "code",
   "execution_count": 4,
   "metadata": {},
   "outputs": [
    {
     "name": "stdout",
     "output_type": "stream",
     "text": [
      "How old are you?\n",
      "Enter 'quit' when you are finished. 25\n",
      "  Your ticket is rs15.\n",
      "How old are you?\n",
      "Enter 'quit' when you are finished. 5\n",
      "  Your ticket is rs10.\n",
      "How old are you?\n",
      "Enter 'quit' when you are finished. 3\n",
      "  Your ticket is rs10.\n",
      "How old are you?\n",
      "Enter 'quit' when you are finished. quit\n"
     ]
    }
   ],
   "source": [
    "prompt = \"How old are you?\"\n",
    "prompt += \"\\nEnter 'quit' when you are finished. \"\n",
    "\n",
    "while True:\n",
    "    age = input(prompt)\n",
    "    if age == 'quit':\n",
    "        break\n",
    "    age = int(age)\n",
    "\n",
    "    if age < 3:\n",
    "        print(\"  You get in free!\")\n",
    "    elif age < 13:\n",
    "        print(\"  Your ticket is rs10.\")\n",
    "    else:\n",
    "        print(\"  Your ticket is rs15.\")"
   ]
  },
  {
   "cell_type": "code",
   "execution_count": 3,
   "metadata": {},
   "outputs": [
    {
     "name": "stdout",
     "output_type": "stream",
     "text": [
      "Enter Book title: Merchant of Venice\n",
      "One of my favorite books is Merchant of Venice.\n"
     ]
    }
   ],
   "source": [
    "def favorite_book(title):\n",
    "    \"\"\"Display a message about someone's favorite book.\"\"\"\n",
    "    print(\"One of my favorite books is \" + title + \".\")\n",
    "\n",
    "title = input(\"Enter Book title: \")\n",
    "favorite_book(title)"
   ]
  },
  {
   "cell_type": "code",
   "execution_count": 17,
   "metadata": {},
   "outputs": [
    {
     "name": "stdout",
     "output_type": "stream",
     "text": [
      "I am thinking of a number between 1 and 30.\n",
      "Take a guess.\n",
      "1\n",
      "Your guess is too low.\n",
      "Take a guess.\n",
      "2\n",
      "Your guess is too low.\n",
      "Take a guess.\n",
      "3\n",
      "Your guess is too low.\n",
      "Nope. The number I was thinking of was 30\n"
     ]
    }
   ],
   "source": [
    "import random\n",
    "guessesTaken = 0\n",
    "number = random.randint(1, 30)\n",
    "print('I am thinking of a number between 1 and 30.')\n",
    "while guessesTaken < 3:\n",
    "    print('Take a guess.') \n",
    "    guess = input()\n",
    "    guess = int(guess)\n",
    "    guessesTaken = guessesTaken + 1\n",
    "    if guess < number:\n",
    "        print('Your guess is too low.') \n",
    "    if guess > number:\n",
    "        print('Your guess is too high.')\n",
    "    if guess == number:\n",
    "        break\n",
    "if guess == number:\n",
    "    guessesTaken = str(guessesTaken)\n",
    "    print('Good job, ! You guessed my number in ' + guessesTaken + ' guesses!')\n",
    "if guess != number:\n",
    "    number = str(number)\n",
    "    print('Nope. The number I was thinking of was ' + number)"
   ]
  },
  {
   "cell_type": "code",
   "execution_count": null,
   "metadata": {},
   "outputs": [],
   "source": []
  }
 ],
 "metadata": {
  "kernelspec": {
   "display_name": "Python 3",
   "language": "python",
   "name": "python3"
  },
  "language_info": {
   "codemirror_mode": {
    "name": "ipython",
    "version": 3
   },
   "file_extension": ".py",
   "mimetype": "text/x-python",
   "name": "python",
   "nbconvert_exporter": "python",
   "pygments_lexer": "ipython3",
   "version": "3.7.4"
  }
 },
 "nbformat": 4,
 "nbformat_minor": 2
}
