{
 "cells": [
  {
   "cell_type": "code",
   "execution_count": 1,
   "metadata": {},
   "outputs": [],
   "source": [
    "# Object-oriented programming is programming language in which programs are created using data and objects\n"
   ]
  },
  {
   "cell_type": "code",
   "execution_count": 2,
   "metadata": {},
   "outputs": [],
   "source": [
    "# 1) Objects can be reused in different applciation\n",
    "# 2) easy to mantain\n",
    "# 3) implement real life scenario\n",
    "# 4) Effective promblem solving"
   ]
  },
  {
   "cell_type": "code",
   "execution_count": 3,
   "metadata": {},
   "outputs": [],
   "source": [
    "# A function is a piece of code that is called by name. \n",
    "# It can be passed data to operate and can optionally return data.\n",
    "# All data that is passed to a function is explicitly passed.\n",
    "\n",
    "# A method is a piece of code that is called by a name that is associated with an object. \n",
    "# In most respects it is identical to a function except for two key differences:\n",
    "# A method is implicitly passed the object on which it was called."
   ]
  },
  {
   "cell_type": "code",
   "execution_count": 4,
   "metadata": {},
   "outputs": [],
   "source": [
    "# Class\n",
    "# it is a blueprint or a set of instruction to build a specific type of object.\n",
    "\n",
    "# Object\n",
    "# An object is nothing but a self-contained component which consists of methods and properties to make a particular type of data useful. \n",
    "\n",
    "# Attribute\n",
    "# data stored inside a class or instance and represent the state or quality of the class or instance.\n",
    "\n",
    "# Behavior\n",
    "# A class's behavior determines how an instance of that class operates"
   ]
  },
  {
   "cell_type": "code",
   "execution_count": 13,
   "metadata": {},
   "outputs": [
    {
     "name": "stdout",
     "output_type": "stream",
     "text": [
      "Engine started\n",
      "Corrola\n",
      "Engine started\n",
      "Mehran\n",
      "Engine started\n",
      "Grandi\n",
      "Engine started\n",
      "E200\n",
      "Engine started\n",
      "Civic\n"
     ]
    }
   ],
   "source": [
    "class Car:\n",
    "\n",
    "    name = \"c200\"\n",
    "    make = \"mercedez\"\n",
    "    model = 2008\n",
    "    color = \"black\"\n",
    "    drive = \"Front Wheel\"\n",
    "\n",
    "     \n",
    "    def start(self, name, make, model ,color, drive):\n",
    "        print (\"Engine started\")\n",
    "        self.name = name\n",
    "        self.make = make\n",
    "        self.model = model\n",
    "\n",
    "    def stop(self, name, make, model ,color, drive):\n",
    "        print (\"Engine switched off\")\n",
    "        self.name = name\n",
    "        self.make = make\n",
    "        self.model = model\n",
    "    \n",
    "    def drive(self, name, make, model ,color, drive):\n",
    "        print (\"Car is Moving\")\n",
    "        self.name = name\n",
    "        self.make = make\n",
    "        self.model = model\n",
    "        \n",
    "car_a = Car()\n",
    "car_a.start(\"Corrola\", \"Toyota\", 2015, \"red\", \"drive\")\n",
    "print(car_a.name)\n",
    "\n",
    "car_a = Car()\n",
    "car_a.start(\"Mehran\", \"Suzaki\", 2015, \"red\", \"drive\")\n",
    "print(car_a.name)\n",
    "\n",
    "car_a = Car()\n",
    "car_a.start(\"Grandi\", \"Corrola\", 2015, \"blue\", \"drive\")\n",
    "print(car_a.name)\n",
    "\n",
    "car_a = Car()\n",
    "car_a.start(\"E200\", \"BMW\", 2015, \"black\", \"drive\")\n",
    "print(car_a.name)\n",
    "\n",
    "car_a = Car()\n",
    "car_a.start(\"Civic\", \"Honda\", 2015, \"red\", \"drive\")\n",
    "print(car_a.name)"
   ]
  },
  {
   "cell_type": "code",
   "execution_count": null,
   "metadata": {},
   "outputs": [],
   "source": []
  }
 ],
 "metadata": {
  "kernelspec": {
   "display_name": "Python 3",
   "language": "python",
   "name": "python3"
  },
  "language_info": {
   "codemirror_mode": {
    "name": "ipython",
    "version": 3
   },
   "file_extension": ".py",
   "mimetype": "text/x-python",
   "name": "python",
   "nbconvert_exporter": "python",
   "pygments_lexer": "ipython3",
   "version": "3.7.4"
  }
 },
 "nbformat": 4,
 "nbformat_minor": 2
}
